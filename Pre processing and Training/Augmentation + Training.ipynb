{
  "nbformat": 4,
  "nbformat_minor": 0,
  "metadata": {
    "colab": {
      "provenance": []
    },
    "kernelspec": {
      "name": "python3",
      "display_name": "Python 3"
    },
    "language_info": {
      "name": "python"
    }
  },
  "cells": [
    {
      "cell_type": "markdown",
      "source": [
        "#Data augmentation"
      ],
      "metadata": {
        "id": "Chp1uNJcg5eO"
      }
    },
    {
      "cell_type": "code",
      "execution_count": 20,
      "metadata": {
        "colab": {
          "base_uri": "https://localhost:8080/",
          "height": 258
        },
        "id": "E8Su88-ieu5A",
        "outputId": "06fb5487-11ea-4ba8-aa81-f18a5c37f8f4"
      },
      "outputs": [
        {
          "output_type": "stream",
          "name": "stdout",
          "text": [
            "Original dataset size: 2055\n",
            "Augmented dataset size: 616\n",
            "Total size after augmentation: 2671\n"
          ]
        },
        {
          "output_type": "execute_result",
          "data": {
            "text/plain": [
              "                                               Claim  Label      Domain\n",
              "0  For in a a to years study if visa on 5 degree ...      1  UK_STUDENT\n",
              "1  For UK,  You can apply for a UK Student visa i...      0  UK_STUDENT\n",
              "2  For UK,  You must submit proof that your cours...      1  UK_STUDENT\n",
              "3  For UK,  You can apply for a UK Student visa f...      0  UK_STUDENT\n",
              "4  For UK,  If you're under 18, you must provide ...      1  UK_STUDENT"
            ],
            "text/html": [
              "\n",
              "  <div id=\"df-64c3b2f9-8c3f-4ba7-9be0-0b548224c568\" class=\"colab-df-container\">\n",
              "    <div>\n",
              "<style scoped>\n",
              "    .dataframe tbody tr th:only-of-type {\n",
              "        vertical-align: middle;\n",
              "    }\n",
              "\n",
              "    .dataframe tbody tr th {\n",
              "        vertical-align: top;\n",
              "    }\n",
              "\n",
              "    .dataframe thead th {\n",
              "        text-align: right;\n",
              "    }\n",
              "</style>\n",
              "<table border=\"1\" class=\"dataframe\">\n",
              "  <thead>\n",
              "    <tr style=\"text-align: right;\">\n",
              "      <th></th>\n",
              "      <th>Claim</th>\n",
              "      <th>Label</th>\n",
              "      <th>Domain</th>\n",
              "    </tr>\n",
              "  </thead>\n",
              "  <tbody>\n",
              "    <tr>\n",
              "      <th>0</th>\n",
              "      <td>For in a a to years study if visa on 5 degree ...</td>\n",
              "      <td>1</td>\n",
              "      <td>UK_STUDENT</td>\n",
              "    </tr>\n",
              "    <tr>\n",
              "      <th>1</th>\n",
              "      <td>For UK,  You can apply for a UK Student visa i...</td>\n",
              "      <td>0</td>\n",
              "      <td>UK_STUDENT</td>\n",
              "    </tr>\n",
              "    <tr>\n",
              "      <th>2</th>\n",
              "      <td>For UK,  You must submit proof that your cours...</td>\n",
              "      <td>1</td>\n",
              "      <td>UK_STUDENT</td>\n",
              "    </tr>\n",
              "    <tr>\n",
              "      <th>3</th>\n",
              "      <td>For UK,  You can apply for a UK Student visa f...</td>\n",
              "      <td>0</td>\n",
              "      <td>UK_STUDENT</td>\n",
              "    </tr>\n",
              "    <tr>\n",
              "      <th>4</th>\n",
              "      <td>For UK,  If you're under 18, you must provide ...</td>\n",
              "      <td>1</td>\n",
              "      <td>UK_STUDENT</td>\n",
              "    </tr>\n",
              "  </tbody>\n",
              "</table>\n",
              "</div>\n",
              "    <div class=\"colab-df-buttons\">\n",
              "\n",
              "  <div class=\"colab-df-container\">\n",
              "    <button class=\"colab-df-convert\" onclick=\"convertToInteractive('df-64c3b2f9-8c3f-4ba7-9be0-0b548224c568')\"\n",
              "            title=\"Convert this dataframe to an interactive table.\"\n",
              "            style=\"display:none;\">\n",
              "\n",
              "  <svg xmlns=\"http://www.w3.org/2000/svg\" height=\"24px\" viewBox=\"0 -960 960 960\">\n",
              "    <path d=\"M120-120v-720h720v720H120Zm60-500h600v-160H180v160Zm220 220h160v-160H400v160Zm0 220h160v-160H400v160ZM180-400h160v-160H180v160Zm440 0h160v-160H620v160ZM180-180h160v-160H180v160Zm440 0h160v-160H620v160Z\"/>\n",
              "  </svg>\n",
              "    </button>\n",
              "\n",
              "  <style>\n",
              "    .colab-df-container {\n",
              "      display:flex;\n",
              "      gap: 12px;\n",
              "    }\n",
              "\n",
              "    .colab-df-convert {\n",
              "      background-color: #E8F0FE;\n",
              "      border: none;\n",
              "      border-radius: 50%;\n",
              "      cursor: pointer;\n",
              "      display: none;\n",
              "      fill: #1967D2;\n",
              "      height: 32px;\n",
              "      padding: 0 0 0 0;\n",
              "      width: 32px;\n",
              "    }\n",
              "\n",
              "    .colab-df-convert:hover {\n",
              "      background-color: #E2EBFA;\n",
              "      box-shadow: 0px 1px 2px rgba(60, 64, 67, 0.3), 0px 1px 3px 1px rgba(60, 64, 67, 0.15);\n",
              "      fill: #174EA6;\n",
              "    }\n",
              "\n",
              "    .colab-df-buttons div {\n",
              "      margin-bottom: 4px;\n",
              "    }\n",
              "\n",
              "    [theme=dark] .colab-df-convert {\n",
              "      background-color: #3B4455;\n",
              "      fill: #D2E3FC;\n",
              "    }\n",
              "\n",
              "    [theme=dark] .colab-df-convert:hover {\n",
              "      background-color: #434B5C;\n",
              "      box-shadow: 0px 1px 3px 1px rgba(0, 0, 0, 0.15);\n",
              "      filter: drop-shadow(0px 1px 2px rgba(0, 0, 0, 0.3));\n",
              "      fill: #FFFFFF;\n",
              "    }\n",
              "  </style>\n",
              "\n",
              "    <script>\n",
              "      const buttonEl =\n",
              "        document.querySelector('#df-64c3b2f9-8c3f-4ba7-9be0-0b548224c568 button.colab-df-convert');\n",
              "      buttonEl.style.display =\n",
              "        google.colab.kernel.accessAllowed ? 'block' : 'none';\n",
              "\n",
              "      async function convertToInteractive(key) {\n",
              "        const element = document.querySelector('#df-64c3b2f9-8c3f-4ba7-9be0-0b548224c568');\n",
              "        const dataTable =\n",
              "          await google.colab.kernel.invokeFunction('convertToInteractive',\n",
              "                                                    [key], {});\n",
              "        if (!dataTable) return;\n",
              "\n",
              "        const docLinkHtml = 'Like what you see? Visit the ' +\n",
              "          '<a target=\"_blank\" href=https://colab.research.google.com/notebooks/data_table.ipynb>data table notebook</a>'\n",
              "          + ' to learn more about interactive tables.';\n",
              "        element.innerHTML = '';\n",
              "        dataTable['output_type'] = 'display_data';\n",
              "        await google.colab.output.renderOutput(dataTable, element);\n",
              "        const docLink = document.createElement('div');\n",
              "        docLink.innerHTML = docLinkHtml;\n",
              "        element.appendChild(docLink);\n",
              "      }\n",
              "    </script>\n",
              "  </div>\n",
              "\n",
              "\n",
              "<div id=\"df-e1114a50-3f13-4c8e-b453-ac2b6ee2e094\">\n",
              "  <button class=\"colab-df-quickchart\" onclick=\"quickchart('df-e1114a50-3f13-4c8e-b453-ac2b6ee2e094')\"\n",
              "            title=\"Suggest charts\"\n",
              "            style=\"display:none;\">\n",
              "\n",
              "<svg xmlns=\"http://www.w3.org/2000/svg\" height=\"24px\"viewBox=\"0 0 24 24\"\n",
              "     width=\"24px\">\n",
              "    <g>\n",
              "        <path d=\"M19 3H5c-1.1 0-2 .9-2 2v14c0 1.1.9 2 2 2h14c1.1 0 2-.9 2-2V5c0-1.1-.9-2-2-2zM9 17H7v-7h2v7zm4 0h-2V7h2v10zm4 0h-2v-4h2v4z\"/>\n",
              "    </g>\n",
              "</svg>\n",
              "  </button>\n",
              "\n",
              "<style>\n",
              "  .colab-df-quickchart {\n",
              "      --bg-color: #E8F0FE;\n",
              "      --fill-color: #1967D2;\n",
              "      --hover-bg-color: #E2EBFA;\n",
              "      --hover-fill-color: #174EA6;\n",
              "      --disabled-fill-color: #AAA;\n",
              "      --disabled-bg-color: #DDD;\n",
              "  }\n",
              "\n",
              "  [theme=dark] .colab-df-quickchart {\n",
              "      --bg-color: #3B4455;\n",
              "      --fill-color: #D2E3FC;\n",
              "      --hover-bg-color: #434B5C;\n",
              "      --hover-fill-color: #FFFFFF;\n",
              "      --disabled-bg-color: #3B4455;\n",
              "      --disabled-fill-color: #666;\n",
              "  }\n",
              "\n",
              "  .colab-df-quickchart {\n",
              "    background-color: var(--bg-color);\n",
              "    border: none;\n",
              "    border-radius: 50%;\n",
              "    cursor: pointer;\n",
              "    display: none;\n",
              "    fill: var(--fill-color);\n",
              "    height: 32px;\n",
              "    padding: 0;\n",
              "    width: 32px;\n",
              "  }\n",
              "\n",
              "  .colab-df-quickchart:hover {\n",
              "    background-color: var(--hover-bg-color);\n",
              "    box-shadow: 0 1px 2px rgba(60, 64, 67, 0.3), 0 1px 3px 1px rgba(60, 64, 67, 0.15);\n",
              "    fill: var(--button-hover-fill-color);\n",
              "  }\n",
              "\n",
              "  .colab-df-quickchart-complete:disabled,\n",
              "  .colab-df-quickchart-complete:disabled:hover {\n",
              "    background-color: var(--disabled-bg-color);\n",
              "    fill: var(--disabled-fill-color);\n",
              "    box-shadow: none;\n",
              "  }\n",
              "\n",
              "  .colab-df-spinner {\n",
              "    border: 2px solid var(--fill-color);\n",
              "    border-color: transparent;\n",
              "    border-bottom-color: var(--fill-color);\n",
              "    animation:\n",
              "      spin 1s steps(1) infinite;\n",
              "  }\n",
              "\n",
              "  @keyframes spin {\n",
              "    0% {\n",
              "      border-color: transparent;\n",
              "      border-bottom-color: var(--fill-color);\n",
              "      border-left-color: var(--fill-color);\n",
              "    }\n",
              "    20% {\n",
              "      border-color: transparent;\n",
              "      border-left-color: var(--fill-color);\n",
              "      border-top-color: var(--fill-color);\n",
              "    }\n",
              "    30% {\n",
              "      border-color: transparent;\n",
              "      border-left-color: var(--fill-color);\n",
              "      border-top-color: var(--fill-color);\n",
              "      border-right-color: var(--fill-color);\n",
              "    }\n",
              "    40% {\n",
              "      border-color: transparent;\n",
              "      border-right-color: var(--fill-color);\n",
              "      border-top-color: var(--fill-color);\n",
              "    }\n",
              "    60% {\n",
              "      border-color: transparent;\n",
              "      border-right-color: var(--fill-color);\n",
              "    }\n",
              "    80% {\n",
              "      border-color: transparent;\n",
              "      border-right-color: var(--fill-color);\n",
              "      border-bottom-color: var(--fill-color);\n",
              "    }\n",
              "    90% {\n",
              "      border-color: transparent;\n",
              "      border-bottom-color: var(--fill-color);\n",
              "    }\n",
              "  }\n",
              "</style>\n",
              "\n",
              "  <script>\n",
              "    async function quickchart(key) {\n",
              "      const quickchartButtonEl =\n",
              "        document.querySelector('#' + key + ' button');\n",
              "      quickchartButtonEl.disabled = true;  // To prevent multiple clicks.\n",
              "      quickchartButtonEl.classList.add('colab-df-spinner');\n",
              "      try {\n",
              "        const charts = await google.colab.kernel.invokeFunction(\n",
              "            'suggestCharts', [key], {});\n",
              "      } catch (error) {\n",
              "        console.error('Error during call to suggestCharts:', error);\n",
              "      }\n",
              "      quickchartButtonEl.classList.remove('colab-df-spinner');\n",
              "      quickchartButtonEl.classList.add('colab-df-quickchart-complete');\n",
              "    }\n",
              "    (() => {\n",
              "      let quickchartButtonEl =\n",
              "        document.querySelector('#df-e1114a50-3f13-4c8e-b453-ac2b6ee2e094 button');\n",
              "      quickchartButtonEl.style.display =\n",
              "        google.colab.kernel.accessAllowed ? 'block' : 'none';\n",
              "    })();\n",
              "  </script>\n",
              "</div>\n",
              "\n",
              "    </div>\n",
              "  </div>\n"
            ],
            "application/vnd.google.colaboratory.intrinsic+json": {
              "type": "dataframe",
              "variable_name": "augmented_full_df",
              "summary": "{\n  \"name\": \"augmented_full_df\",\n  \"rows\": 2671,\n  \"fields\": [\n    {\n      \"column\": \"Claim\",\n      \"properties\": {\n        \"dtype\": \"string\",\n        \"num_unique_values\": 2671,\n        \"samples\": [\n          \"For UK,  You do not need to prove your English proficiency if you are applying for a UK Student visa from an English-speaking country.\",\n          \"For UK,  You must submit biometric data, including fingerprints and photographs, as part of your UK Student visa application.\",\n          \"For USA,  You do not need to provide biometric data when attending your visa interview.\"\n        ],\n        \"semantic_type\": \"\",\n        \"description\": \"\"\n      }\n    },\n    {\n      \"column\": \"Label\",\n      \"properties\": {\n        \"dtype\": \"number\",\n        \"std\": 0,\n        \"min\": 0,\n        \"max\": 1,\n        \"num_unique_values\": 2,\n        \"samples\": [\n          0,\n          1\n        ],\n        \"semantic_type\": \"\",\n        \"description\": \"\"\n      }\n    },\n    {\n      \"column\": \"Domain\",\n      \"properties\": {\n        \"dtype\": \"category\",\n        \"num_unique_values\": 3,\n        \"samples\": [\n          \"UK_STUDENT\",\n          \"USA_STUDENT\"\n        ],\n        \"semantic_type\": \"\",\n        \"description\": \"\"\n      }\n    }\n  ]\n}"
            }
          },
          "metadata": {},
          "execution_count": 20
        }
      ],
      "source": [
        "# Required imports\n",
        "import pandas as pd\n",
        "import random\n",
        "\n",
        "\n",
        "# Load dataset (Update path if loading from Drive)\n",
        "df = pd.read_csv(\"full_df.csv\")  # Or replace with the correct path\n",
        "\n",
        "# Drop unnecessary/empty columns if needed\n",
        "if 'Statement' in df.columns:\n",
        "    df = df.drop(columns=['Statement'])\n",
        "\n",
        "# Extract values\n",
        "claims = df['Claim'].tolist()\n",
        "labels = df['Label'].tolist()\n",
        "domains = df['Domain'].tolist()\n",
        "\n",
        "# Define simple word shuffling function\n",
        "def basic_augment(sentence):\n",
        "    words = sentence.split()\n",
        "    if len(words) <= 3:\n",
        "        return sentence\n",
        "    middle = words[1:-1]\n",
        "    random.shuffle(middle)\n",
        "    return ' '.join([words[0]] + middle + [words[-1]])\n",
        "\n",
        "# Set seed for reproducibility\n",
        "random.seed(42)\n",
        "\n",
        "# How many samples to augment? (30%)\n",
        "num_to_augment = int(len(claims) * 0.30)\n",
        "\n",
        "# Sample random indices\n",
        "sample_indices = random.sample(range(len(claims)), num_to_augment)\n",
        "\n",
        "# Create augmented data\n",
        "augmented_claims = [basic_augment(claims[i]) for i in sample_indices]\n",
        "augmented_labels = [labels[i] for i in sample_indices]\n",
        "augmented_domains = [domains[i] for i in sample_indices]\n",
        "\n",
        "# Create DataFrame for augmented data\n",
        "aug_df = pd.DataFrame({\n",
        "    'Claim': augmented_claims,\n",
        "    'Label': augmented_labels,\n",
        "    'Domain': augmented_domains\n",
        "})\n",
        "\n",
        "# Combine original and augmented datasets\n",
        "augmented_full_df = pd.concat([df, aug_df], ignore_index=True)\n",
        "\n",
        "# Shuffle the final dataset (optional but recommended)\n",
        "augmented_full_df = augmented_full_df.sample(frac=1, random_state=42).reset_index(drop=True)\n",
        "\n",
        "# Save to new CSV\n",
        "augmented_full_df.to_csv(\"augmented_full_df.csv\", index=False)\n",
        "\n",
        "# Preview\n",
        "print(\"Original dataset size:\", len(df))\n",
        "print(\"Augmented dataset size:\", len(aug_df))\n",
        "print(\"Total size after augmentation:\", len(augmented_full_df))\n",
        "augmented_full_df.head()\n"
      ]
    },
    {
      "cell_type": "code",
      "source": [],
      "metadata": {
        "id": "qJqNR2XPiq6W"
      },
      "execution_count": 20,
      "outputs": []
    },
    {
      "cell_type": "markdown",
      "source": [
        "#RNN + 5-Fold CV"
      ],
      "metadata": {
        "id": "boUFnr1Mg9k8"
      }
    },
    {
      "cell_type": "code",
      "source": [
        "import numpy as np\n",
        "import pandas as pd\n",
        "import matplotlib.pyplot as plt\n",
        "import seaborn as sns\n",
        "from sklearn.model_selection import KFold\n",
        "from sklearn.metrics import accuracy_score, precision_score, recall_score, f1_score, confusion_matrix\n",
        "from tensorflow.keras.preprocessing.text import Tokenizer\n",
        "from tensorflow.keras.preprocessing.sequence import pad_sequences\n",
        "from tensorflow.keras.models import Sequential\n",
        "from tensorflow.keras.layers import Embedding, SimpleRNN, Dense\n",
        "from tensorflow.keras.utils import to_categorical\n",
        "\n",
        "# Load your dataset\n",
        "df = pd.read_csv(\"augmented_full_df.csv\")  # Update with your file path\n",
        "texts = df['Claim'].astype(str).tolist()\n",
        "labels = df['Label'].tolist()\n",
        "\n",
        "# One-hot encode labels\n",
        "num_classes = len(set(labels))\n",
        "y = to_categorical(labels, num_classes=num_classes)\n",
        "\n",
        "# Tokenize text\n",
        "tokenizer = Tokenizer(num_words=10000, oov_token=\"<OOV>\")\n",
        "tokenizer.fit_on_texts(texts)\n",
        "sequences = tokenizer.texts_to_sequences(texts)\n",
        "\n",
        "# Pad sequences\n",
        "max_length = max(len(seq) for seq in sequences)\n",
        "X = pad_sequences(sequences, maxlen=max_length, padding='post')\n",
        "\n",
        "# 5-Fold Cross-Validation\n",
        "kf = KFold(n_splits=5, shuffle=True, random_state=42)\n",
        "fold = 1\n",
        "accuracy_scores = []\n",
        "\n",
        "for train_index, val_index in kf.split(X):\n",
        "    X_train, X_val = X[train_index], X[val_index]\n",
        "    y_train, y_val = y[train_index], y[val_index]\n",
        "\n",
        "    # Vanilla RNN model\n",
        "    model = Sequential([\n",
        "        Embedding(input_dim=10000, output_dim=100, input_length=max_length),\n",
        "        SimpleRNN(64, return_sequences=False),\n",
        "        Dense(32, activation='relu'),\n",
        "        Dense(num_classes, activation='softmax')\n",
        "    ])\n",
        "\n",
        "    model.compile(loss='categorical_crossentropy', optimizer='adam', metrics=['accuracy'])\n",
        "\n",
        "    # Train\n",
        "    print(f\"Training Fold {fold}...\")\n",
        "    model.fit(X_train, y_train, epochs=5, batch_size=32, verbose=1)\n",
        "\n",
        "    # Evaluate\n",
        "    y_pred = model.predict(X_val)\n",
        "    y_pred_labels = np.argmax(y_pred, axis=1)  # Convert one-hot to label index\n",
        "    y_true_labels = np.argmax(y_val, axis=1)   # Convert one-hot to label index\n",
        "\n",
        "    # Compute Metrics\n",
        "    accuracy = accuracy_score(y_true_labels, y_pred_labels)\n",
        "    precision = precision_score(y_true_labels, y_pred_labels, average='weighted')\n",
        "    recall = recall_score(y_true_labels, y_pred_labels, average='weighted')\n",
        "    f1 = f1_score(y_true_labels, y_pred_labels, average='weighted')\n",
        "    conf_matrix = confusion_matrix(y_true_labels, y_pred_labels)\n",
        "\n",
        "    # Store Accuracy\n",
        "    accuracy_scores.append(accuracy)\n",
        "\n",
        "    # Print Metrics\n",
        "    print(f\"\\n📌 Fold {fold} Metrics:\")\n",
        "    print(f\"✅ Accuracy: {accuracy:.4f}\")\n",
        "    print(f\"✅ Precision: {precision:.4f}\")\n",
        "    print(f\"✅ Recall: {recall:.4f}\")\n",
        "    print(f\"✅ F1 Score: {f1:.4f}\")\n",
        "    print(f\"✅ Confusion Matrix:\\n {conf_matrix}\\n\")\n",
        "\n",
        "    # --- Visualizing Confusion Matrix ---\n",
        "    plt.figure(figsize=(6,5))\n",
        "    sns.heatmap(conf_matrix, annot=True, fmt=\"d\", cmap=\"Blues\", xticklabels=np.unique(y_true_labels), yticklabels=np.unique(y_true_labels))\n",
        "    plt.xlabel(\"Predicted Label\")\n",
        "    plt.ylabel(\"True Label\")\n",
        "    plt.title(f\"Confusion Matrix - Fold {fold}\")\n",
        "    plt.show()\n",
        "\n",
        "    fold += 1\n",
        "\n",
        "# Final Result\n",
        "print(\"🎯 Average 5-Fold Accuracy:\", np.mean(accuracy_scores))\n"
      ],
      "metadata": {
        "colab": {
          "base_uri": "https://localhost:8080/",
          "height": 1000
        },
        "id": "kCgGorg3hClh",
        "outputId": "08c9ab86-fd73-417c-c9c6-bccfa05d0930"
      },
      "execution_count": 21,
      "outputs": [
        {
          "output_type": "stream",
          "name": "stdout",
          "text": [
            "Training Fold 1...\n",
            "Epoch 1/5\n"
          ]
        },
        {
          "output_type": "stream",
          "name": "stderr",
          "text": [
            "/usr/local/lib/python3.11/dist-packages/keras/src/layers/core/embedding.py:90: UserWarning: Argument `input_length` is deprecated. Just remove it.\n",
            "  warnings.warn(\n"
          ]
        },
        {
          "output_type": "stream",
          "name": "stdout",
          "text": [
            "\u001b[1m67/67\u001b[0m \u001b[32m━━━━━━━━━━━━━━━━━━━━\u001b[0m\u001b[37m\u001b[0m \u001b[1m5s\u001b[0m 22ms/step - accuracy: 0.7905 - loss: 0.4882\n",
            "Epoch 2/5\n",
            "\u001b[1m67/67\u001b[0m \u001b[32m━━━━━━━━━━━━━━━━━━━━\u001b[0m\u001b[37m\u001b[0m \u001b[1m3s\u001b[0m 25ms/step - accuracy: 0.8893 - loss: 0.3279\n",
            "Epoch 3/5\n",
            "\u001b[1m67/67\u001b[0m \u001b[32m━━━━━━━━━━━━━━━━━━━━\u001b[0m\u001b[37m\u001b[0m \u001b[1m2s\u001b[0m 24ms/step - accuracy: 0.8802 - loss: 0.3156\n",
            "Epoch 4/5\n",
            "\u001b[1m67/67\u001b[0m \u001b[32m━━━━━━━━━━━━━━━━━━━━\u001b[0m\u001b[37m\u001b[0m \u001b[1m3s\u001b[0m 28ms/step - accuracy: 0.9062 - loss: 0.2551\n",
            "Epoch 5/5\n",
            "\u001b[1m67/67\u001b[0m \u001b[32m━━━━━━━━━━━━━━━━━━━━\u001b[0m\u001b[37m\u001b[0m \u001b[1m2s\u001b[0m 23ms/step - accuracy: 0.9164 - loss: 0.2327\n",
            "\u001b[1m17/17\u001b[0m \u001b[32m━━━━━━━━━━━━━━━━━━━━\u001b[0m\u001b[37m\u001b[0m \u001b[1m0s\u001b[0m 17ms/step\n",
            "\n",
            "📌 Fold 1 Metrics:\n",
            "✅ Accuracy: 0.8280\n",
            "✅ Precision: 0.8267\n",
            "✅ Recall: 0.8280\n",
            "✅ F1 Score: 0.8259\n",
            "✅ Confusion Matrix:\n",
            " [[146  57]\n",
            " [ 35 297]]\n",
            "\n"
          ]
        },
        {
          "output_type": "display_data",
          "data": {
            "text/plain": [
              "<Figure size 600x500 with 2 Axes>"
            ],
            "image/png": "[encoded data removed]"
          },
          "metadata": {}
        },
        {
          "output_type": "stream",
          "name": "stdout",
          "text": [
            "Training Fold 2...\n",
            "Epoch 1/5\n"
          ]
        },
        {
          "output_type": "stream",
          "name": "stderr",
          "text": [
            "/usr/local/lib/python3.11/dist-packages/keras/src/layers/core/embedding.py:90: UserWarning: Argument `input_length` is deprecated. Just remove it.\n",
            "  warnings.warn(\n"
          ]
        },
        {
          "output_type": "stream",
          "name": "stdout",
          "text": [
            "\u001b[1m67/67\u001b[0m \u001b[32m━━━━━━━━━━━━━━━━━━━━\u001b[0m\u001b[37m\u001b[0m \u001b[1m4s\u001b[0m 22ms/step - accuracy: 0.7975 - loss: 0.4406\n",
            "Epoch 2/5\n",
            "\u001b[1m67/67\u001b[0m \u001b[32m━━━━━━━━━━━━━━━━━━━━\u001b[0m\u001b[37m\u001b[0m \u001b[1m2s\u001b[0m 24ms/step - accuracy: 0.9563 - loss: 0.1178\n",
            "Epoch 3/5\n",
            "\u001b[1m67/67\u001b[0m \u001b[32m━━━━━━━━━━━━━━━━━━━━\u001b[0m\u001b[37m\u001b[0m \u001b[1m2s\u001b[0m 37ms/step - accuracy: 0.9880 - loss: 0.0414\n",
            "Epoch 4/5\n",
            "\u001b[1m67/67\u001b[0m \u001b[32m━━━━━━━━━━━━━━━━━━━━\u001b[0m\u001b[37m\u001b[0m \u001b[1m2s\u001b[0m 22ms/step - accuracy: 0.9838 - loss: 0.0373\n",
            "Epoch 5/5\n",
            "\u001b[1m67/67\u001b[0m \u001b[32m━━━━━━━━━━━━━━━━━━━━\u001b[0m\u001b[37m\u001b[0m \u001b[1m3s\u001b[0m 22ms/step - accuracy: 0.9885 - loss: 0.0349\n",
            "\u001b[1m17/17\u001b[0m \u001b[32m━━━━━━━━━━━━━━━━━━━━\u001b[0m\u001b[37m\u001b[0m \u001b[1m0s\u001b[0m 16ms/step\n",
            "\n",
            "📌 Fold 2 Metrics:\n",
            "✅ Accuracy: 0.9345\n",
            "✅ Precision: 0.9382\n",
            "✅ Recall: 0.9345\n",
            "✅ F1 Score: 0.9332\n",
            "✅ Confusion Matrix:\n",
            " [[165  32]\n",
            " [  3 334]]\n",
            "\n"
          ]
        },
        {
          "output_type": "display_data",
          "data": {
            "text/plain": [
              "<Figure size 600x500 with 2 Axes>"
            ],
            "image/png": "[encoded data removed]"
          },
          "metadata": {}
        },
        {
          "output_type": "stream",
          "name": "stdout",
          "text": [
            "Training Fold 3...\n",
            "Epoch 1/5\n"
          ]
        },
        {
          "output_type": "stream",
          "name": "stderr",
          "text": [
            "/usr/local/lib/python3.11/dist-packages/keras/src/layers/core/embedding.py:90: UserWarning: Argument `input_length` is deprecated. Just remove it.\n",
            "  warnings.warn(\n"
          ]
        },
        {
          "output_type": "stream",
          "name": "stdout",
          "text": [
            "\u001b[1m67/67\u001b[0m \u001b[32m━━━━━━━━━━━━━━━━━━━━\u001b[0m\u001b[37m\u001b[0m \u001b[1m4s\u001b[0m 24ms/step - accuracy: 0.7164 - loss: 0.5144\n",
            "Epoch 2/5\n",
            "\u001b[1m67/67\u001b[0m \u001b[32m━━━━━━━━━━━━━━━━━━━━\u001b[0m\u001b[37m\u001b[0m \u001b[1m3s\u001b[0m 29ms/step - accuracy: 0.9370 - loss: 0.1934\n",
            "Epoch 3/5\n",
            "\u001b[1m67/67\u001b[0m \u001b[32m━━━━━━━━━━━━━━━━━━━━\u001b[0m\u001b[37m\u001b[0m \u001b[1m2s\u001b[0m 23ms/step - accuracy: 0.9711 - loss: 0.0897\n",
            "Epoch 4/5\n",
            "\u001b[1m67/67\u001b[0m \u001b[32m━━━━━━━━━━━━━━━━━━━━\u001b[0m\u001b[37m\u001b[0m \u001b[1m2s\u001b[0m 22ms/step - accuracy: 0.9860 - loss: 0.0416\n",
            "Epoch 5/5\n",
            "\u001b[1m67/67\u001b[0m \u001b[32m━━━━━━━━━━━━━━━━━━━━\u001b[0m\u001b[37m\u001b[0m \u001b[1m2s\u001b[0m 22ms/step - accuracy: 0.9901 - loss: 0.0277\n",
            "\u001b[1m17/17\u001b[0m \u001b[32m━━━━━━━━━━━━━━━━━━━━\u001b[0m\u001b[37m\u001b[0m \u001b[1m0s\u001b[0m 17ms/step\n",
            "\n",
            "📌 Fold 3 Metrics:\n",
            "✅ Accuracy: 0.9232\n",
            "✅ Precision: 0.9269\n",
            "✅ Recall: 0.9232\n",
            "✅ F1 Score: 0.9239\n",
            "✅ Confusion Matrix:\n",
            " [[187  11]\n",
            " [ 30 306]]\n",
            "\n"
          ]
        },
        {
          "output_type": "display_data",
          "data": {
            "text/plain": [
              "<Figure size 600x500 with 2 Axes>"
            ],
            "image/png": "[encoded data removed]"
          },
          "metadata": {}
        },
        {
          "output_type": "stream",
          "name": "stdout",
          "text": [
            "Training Fold 4...\n",
            "Epoch 1/5\n"
          ]
        },
        {
          "output_type": "stream",
          "name": "stderr",
          "text": [
            "/usr/local/lib/python3.11/dist-packages/keras/src/layers/core/embedding.py:90: UserWarning: Argument `input_length` is deprecated. Just remove it.\n",
            "  warnings.warn(\n"
          ]
        },
        {
          "output_type": "stream",
          "name": "stdout",
          "text": [
            "\u001b[1m67/67\u001b[0m \u001b[32m━━━━━━━━━━━━━━━━━━━━\u001b[0m\u001b[37m\u001b[0m \u001b[1m5s\u001b[0m 37ms/step - accuracy: 0.7515 - loss: 0.4944\n",
            "Epoch 2/5\n",
            "\u001b[1m67/67\u001b[0m \u001b[32m━━━━━━━━━━━━━━━━━━━━\u001b[0m\u001b[37m\u001b[0m \u001b[1m2s\u001b[0m 23ms/step - accuracy: 0.9300 - loss: 0.2079\n",
            "Epoch 3/5\n",
            "\u001b[1m67/67\u001b[0m \u001b[32m━━━━━━━━━━━━━━━━━━━━\u001b[0m\u001b[37m\u001b[0m \u001b[1m2s\u001b[0m 22ms/step - accuracy: 0.9535 - loss: 0.1375\n",
            "Epoch 4/5\n",
            "\u001b[1m67/67\u001b[0m \u001b[32m━━━━━━━━━━━━━━━━━━━━\u001b[0m\u001b[37m\u001b[0m \u001b[1m3s\u001b[0m 22ms/step - accuracy: 0.9587 - loss: 0.1160\n",
            "Epoch 5/5\n",
            "\u001b[1m67/67\u001b[0m \u001b[32m━━━━━━━━━━━━━━━━━━━━\u001b[0m\u001b[37m\u001b[0m \u001b[1m2s\u001b[0m 22ms/step - accuracy: 0.9630 - loss: 0.0971\n",
            "\u001b[1m17/17\u001b[0m \u001b[32m━━━━━━━━━━━━━━━━━━━━\u001b[0m\u001b[37m\u001b[0m \u001b[1m0s\u001b[0m 15ms/step\n",
            "\n",
            "📌 Fold 4 Metrics:\n",
            "✅ Accuracy: 0.8390\n",
            "✅ Precision: 0.8455\n",
            "✅ Recall: 0.8390\n",
            "✅ F1 Score: 0.8408\n",
            "✅ Confusion Matrix:\n",
            " [[155  32]\n",
            " [ 54 293]]\n",
            "\n"
          ]
        },
        {
          "output_type": "display_data",
          "data": {
            "text/plain": [
              "<Figure size 600x500 with 2 Axes>"
            ],
            "image/png": "[encoded data removed]"
          },
          "metadata": {}
        },
        {
          "output_type": "stream",
          "name": "stdout",
          "text": [
            "Training Fold 5...\n",
            "Epoch 1/5\n"
          ]
        },
        {
          "output_type": "stream",
          "name": "stderr",
          "text": [
            "/usr/local/lib/python3.11/dist-packages/keras/src/layers/core/embedding.py:90: UserWarning: Argument `input_length` is deprecated. Just remove it.\n",
            "  warnings.warn(\n"
          ]
        },
        {
          "output_type": "stream",
          "name": "stdout",
          "text": [
            "\u001b[1m67/67\u001b[0m \u001b[32m━━━━━━━━━━━━━━━━━━━━\u001b[0m\u001b[37m\u001b[0m \u001b[1m5s\u001b[0m 24ms/step - accuracy: 0.7767 - loss: 0.4657\n",
            "Epoch 2/5\n",
            "\u001b[1m67/67\u001b[0m \u001b[32m━━━━━━━━━━━━━━━━━━━━\u001b[0m\u001b[37m\u001b[0m \u001b[1m1s\u001b[0m 22ms/step - accuracy: 0.9511 - loss: 0.1466\n",
            "Epoch 3/5\n",
            "\u001b[1m67/67\u001b[0m \u001b[32m━━━━━━━━━━━━━━━━━━━━\u001b[0m\u001b[37m\u001b[0m \u001b[1m2s\u001b[0m 22ms/step - accuracy: 0.9757 - loss: 0.0766\n",
            "Epoch 4/5\n",
            "\u001b[1m67/67\u001b[0m \u001b[32m━━━━━━━━━━━━━━━━━━━━\u001b[0m\u001b[37m\u001b[0m \u001b[1m2s\u001b[0m 23ms/step - accuracy: 0.9751 - loss: 0.0814\n",
            "Epoch 5/5\n",
            "\u001b[1m67/67\u001b[0m \u001b[32m━━━━━━━━━━━━━━━━━━━━\u001b[0m\u001b[37m\u001b[0m \u001b[1m2s\u001b[0m 23ms/step - accuracy: 0.9843 - loss: 0.0399\n",
            "\u001b[1m17/17\u001b[0m \u001b[32m━━━━━━━━━━━━━━━━━━━━\u001b[0m\u001b[37m\u001b[0m \u001b[1m0s\u001b[0m 17ms/step\n",
            "\n",
            "📌 Fold 5 Metrics:\n",
            "✅ Accuracy: 0.9569\n",
            "✅ Precision: 0.9574\n",
            "✅ Recall: 0.9569\n",
            "✅ F1 Score: 0.9567\n",
            "✅ Confusion Matrix:\n",
            " [[197  17]\n",
            " [  6 314]]\n",
            "\n"
          ]
        },
        {
          "output_type": "display_data",
          "data": {
            "text/plain": [
              "<Figure size 600x500 with 2 Axes>"
            ],
            "image/png": "[encoded data removed]"
          },
          "metadata": {}
        },
        {
          "output_type": "stream",
          "name": "stdout",
          "text": [
            "🎯 Average 5-Fold Accuracy: 0.8963190871224054\n"
          ]
        }
      ]
    },
    {
      "cell_type": "code",
      "source": [
        "# Save the trained model (after last fold)\n",
        "model.save(\"rnn_text_classification_model.h5\")  # Saves in .h5 format\n",
        "\n",
        "# Save the tokenizer for inference\n",
        "import pickle\n",
        "with open(\"tokenizer.pkl\", \"wb\") as f:\n",
        "    pickle.dump(tokenizer, f)\n",
        "\n",
        "print(\"Model and tokenizer saved successfully!\")\n"
      ],
      "metadata": {
        "id": "qJ3DU8T1hCi0",
        "colab": {
          "base_uri": "https://localhost:8080/"
        },
        "outputId": "9b2fd8cd-c0c2-4754-cfc5-c37d7b4251a2"
      },
      "execution_count": 22,
      "outputs": [
        {
          "output_type": "stream",
          "name": "stderr",
          "text": [
            "WARNING:absl:You are saving your model as an HDF5 file via `model.save()` or `keras.saving.save_model(model)`. This file format is considered legacy. We recommend using instead the native Keras format, e.g. `model.save('my_model.keras')` or `keras.saving.save_model(model, 'my_model.keras')`. \n"
          ]
        },
        {
          "output_type": "stream",
          "name": "stdout",
          "text": [
            "Model and tokenizer saved successfully!\n"
          ]
        }
      ]
    },
    {
      "cell_type": "code",
      "source": [
        "import pandas as pd\n",
        "\n",
        "# Assuming df contains your augmented dataset\n",
        "# Replace 'Augmented_Text' and 'Label' with actual column names\n",
        "df_augmented = pd.DataFrame({\n",
        "    \"Sample\": df[\"Claim\"],  # Text or filename\n",
        "    \"Label\": df[\"Label\"]    # Corresponding labels\n",
        "})\n",
        "\n",
        "# Save as CSV\n",
        "df_augmented.to_csv(\"augmented_data_labels.csv\", index=False)\n",
        "\n",
        "print(\"CSV file saved successfully!\")\n"
      ],
      "metadata": {
        "colab": {
          "base_uri": "https://localhost:8080/"
        },
        "id": "PGsokgEqToNf",
        "outputId": "09b5a059-5c3d-4705-f5c7-83c4d2cf2746"
      },
      "execution_count": 23,
      "outputs": [
        {
          "output_type": "stream",
          "name": "stdout",
          "text": [
            "CSV file saved successfully!\n"
          ]
        }
      ]
    },
    {
      "cell_type": "code",
      "source": [
        "from sklearn.metrics import accuracy_score, precision_score, recall_score, f1_score, confusion_matrix\n",
        "\n",
        "# Get predictions\n",
        "y_pred = model.predict(X_val)\n",
        "y_pred_labels = np.argmax(y_pred, axis=1)  # Convert from one-hot to label index\n",
        "y_true_labels = np.argmax(y_val, axis=1)   # Convert from one-hot to label index\n",
        "\n",
        "# Calculate metrics\n",
        "accuracy = accuracy_score(y_true_labels, y_pred_labels)\n",
        "precision = precision_score(y_true_labels, y_pred_labels, average='weighted')\n",
        "recall = recall_score(y_true_labels, y_pred_labels, average='weighted')\n",
        "f1 = f1_score(y_true_labels, y_pred_labels, average='weighted')\n",
        "\n",
        "# Confusion Matrix\n",
        "conf_matrix = confusion_matrix(y_true_labels, y_pred_labels)\n",
        "\n",
        "# Store results for final reporting\n",
        "accuracy_scores.append(accuracy)\n",
        "\n",
        "print(f\"Fold {fold} Metrics:\")\n",
        "print(f\"Accuracy: {accuracy:.4f}\")\n",
        "print(f\"Precision: {precision:.4f}\")\n",
        "print(f\"Recall: {recall:.4f}\")\n",
        "print(f\"F1 Score: {f1:.4f}\")\n",
        "print(\"Confusion Matrix:\\n\", conf_matrix, \"\\n\")\n"
      ],
      "metadata": {
        "colab": {
          "base_uri": "https://localhost:8080/"
        },
        "id": "vUQLxnp9Y4f-",
        "outputId": "389c0c68-d1d2-4fb0-f148-4d607aed4c60"
      },
      "execution_count": 24,
      "outputs": [
        {
          "output_type": "stream",
          "name": "stdout",
          "text": [
            "\u001b[1m17/17\u001b[0m \u001b[32m━━━━━━━━━━━━━━━━━━━━\u001b[0m\u001b[37m\u001b[0m \u001b[1m0s\u001b[0m 7ms/step\n",
            "Fold 6 Metrics:\n",
            "Accuracy: 0.9569\n",
            "Precision: 0.9574\n",
            "Recall: 0.9569\n",
            "F1 Score: 0.9567\n",
            "Confusion Matrix:\n",
            " [[197  17]\n",
            " [  6 314]] \n",
            "\n"
          ]
        }
      ]
    },
    {
      "cell_type": "code",
      "source": [
        "import matplotlib.pyplot as plt\n",
        "import seaborn as sns\n",
        "\n",
        "# --- 1️⃣ Confusion Matrix Heatmap ---\n",
        "plt.figure(figsize=(6,5))\n",
        "sns.heatmap(conf_matrix, annot=True, fmt=\"d\", cmap=\"Blues\", xticklabels=np.unique(y_true_labels), yticklabels=np.unique(y_true_labels))\n",
        "plt.xlabel(\"Predicted Label\")\n",
        "plt.ylabel(\"True Label\")\n",
        "plt.title(f\"Confusion Matrix - Fold {fold}\")\n",
        "plt.show()\n",
        "\n",
        "# --- 2️⃣ Bar Chart for Accuracy, Precision, Recall, F1-score ---\n",
        "metrics = ['Accuracy', 'Precision', 'Recall', 'F1 Score']\n",
        "values = [accuracy, precision, recall, f1]\n",
        "\n",
        "plt.figure(figsize=(6,4))\n",
        "sns.barplot(x=metrics, y=values, palette=\"viridis\")\n",
        "plt.ylim(0, 1)\n",
        "plt.title(f\"Performance Metrics - Fold {fold}\")\n",
        "plt.ylabel(\"Score\")\n",
        "plt.show()\n"
      ],
      "metadata": {
        "colab": {
          "base_uri": "https://localhost:8080/",
          "height": 948
        },
        "id": "BnbtZ_xBZlDu",
        "outputId": "c7b1102d-0cef-44c8-dc64-3642be64e34d"
      },
      "execution_count": 25,
      "outputs": [
        {
          "output_type": "display_data",
          "data": {
            "text/plain": [
              "<Figure size 600x500 with 2 Axes>"
            ],
            "image/png": "[encoded data removed]"
          },
          "metadata": {}
        },
        {
          "output_type": "stream",
          "name": "stderr",
          "text": [
            "<ipython-input-25-d9984749a263>:17: FutureWarning: \n",
            "\n",
            "Passing `palette` without assigning `hue` is deprecated and will be removed in v0.14.0. Assign the `x` variable to `hue` and set `legend=False` for the same effect.\n",
            "\n",
            "  sns.barplot(x=metrics, y=values, palette=\"viridis\")\n"
          ]
        },
        {
          "output_type": "display_data",
          "data": {
            "text/plain": [
              "<Figure size 600x400 with 1 Axes>"
            ],
            "image/png": "[encoded data removed]"
          },
          "metadata": {}
        }
      ]
    },
    {
      "cell_type": "code",
      "source": [
        "print(\"Final 5-Fold Evaluation:\")\n",
        "print(f\"Average Accuracy: {np.mean(accuracy_scores):.4f}\")\n"
      ],
      "metadata": {
        "colab": {
          "base_uri": "https://localhost:8080/"
        },
        "id": "GXedhzVbY5dV",
        "outputId": "d8acb3d8-bc10-43ec-a806-8247d5008b7b"
      },
      "execution_count": 26,
      "outputs": [
        {
          "output_type": "stream",
          "name": "stdout",
          "text": [
            "Final 5-Fold Evaluation:\n",
            "Average Accuracy: 0.9064\n"
          ]
        }
      ]
    }
  ]
}